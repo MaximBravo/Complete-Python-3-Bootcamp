{
 "cells": [
  {
   "cell_type": "code",
   "execution_count": 54,
   "metadata": {},
   "outputs": [
    {
     "name": "stdout",
     "output_type": "stream",
     "text": [
      "<class 'str'>\n",
      "12\n",
      "cde'fghijk\n",
      "h\n",
      "abc\n",
      "cefh\n",
      "abcde'fghijk\n",
      "acefhj\n",
      "kjihgf'edcba\n",
      "kig'db\n",
      "abcde'fghijkabcde'fghijkabcde'fghijk\n",
      "ABCDE'FGHIJK\n",
      "<class 'builtin_function_or_method'>\n",
      "ABCDE'FGHIJK\n",
      "String here first thing then also second thing you know\n",
      "The quick brown fox\n",
      "The quick brown fox\n",
      "0.1287001287001287\n",
      "The result was 0.129\n",
      "Hello, his name is Jose\n"
     ]
    }
   ],
   "source": [
    "a = \"abcde'fghijk\" # can have single quote inside double quotes\n",
    "print(type(a)) # Useful for telling the type of a variable as do not know what it is\n",
    "print(len(a))\n",
    "print(a[2:]) # [start:len(a)]\n",
    "print(a[-4]) # [len(a) - 4]\n",
    "print(a[:3]) # [0:end]\n",
    "print(a[2:9:2]) # [start:stop:step]\n",
    "print(a[:]) # [0:len(a)]\n",
    "print(a[::2]) # [0:len(a):step]\n",
    "print(a[::-1]) # Reverse a string\n",
    "print(a[::-2])\n",
    "# a[0] = 'b' # Throws an error\n",
    "print(a*3)\n",
    "# 'fav num is ' + 3 # Can't concat str and int\n",
    "print(a.upper())\n",
    "b = a.upper\n",
    "print(type(b))\n",
    "print(b())\n",
    "print('String here {} then also {} you know'.format('first thing', 'second thing')) # String formatting\n",
    "print('The {2} {1} {0}'.format('fox', 'brown', 'quick'))\n",
    "print('The {q} {b} {f}'.format(f='fox', b='brown', q='quick'))\n",
    "\n",
    "result = 100/777\n",
    "print(result)\n",
    "print(\"The result was {r:1.3f}\".format(r=result)) # {value:width.percision f} Width says the total width of number\n",
    "\n",
    "# f-strings (formated String literals) introduced in Python 3.6\n",
    "name = \"Jose\"\n",
    "print(f'Hello, his name is {name}')"
   ]
  },
  {
   "cell_type": "code",
   "execution_count": 81,
   "metadata": {},
   "outputs": [
    {
     "name": "stdout",
     "output_type": "stream",
     "text": [
      "['what', 3, 4.9, 'what', 3, 4.9]\n",
      "['what', 3, 4.9, 'what', 3, 4.9, 'what', 3, 4.9]\n",
      "['NEW ITEM', 3, 4.9]\n",
      "['NEW ITEM', 3, 4.9, 'five']\n",
      "['NEW ITEM', 4.9, 'five'] popped: 3\n",
      "['a', 'c', 'd', 'p', 'yee']\n",
      "<class 'NoneType'>\n",
      "[5, 4, 3, 2, 1]\n",
      "dict_keys(['k1', 'k2', 'k3'])\n",
      "dict_values([123, [0, 1, 2], {'insideKey': 100}])\n",
      "dict_items([('k1', 123), ('k2', [0, 1, 2]), ('k3', {'insideKey': 100})])\n",
      "2\n",
      "2\n",
      "{1}\n",
      "{1, 2}\n",
      "{1, 2, 3, 4}\n",
      "None\n"
     ]
    }
   ],
   "source": [
    "my_list = [\"what\", 3, 4.9]\n",
    "# Can do same indexing as did for Strings for lists\n",
    "print(my_list + my_list)\n",
    "print(my_list * 3)\n",
    "my_list[0] = 'NEW ITEM'\n",
    "print(my_list)\n",
    "my_list.append('five')\n",
    "print(my_list)\n",
    "popped_item = my_list.pop(1) # pop() is default the last item\n",
    "print(my_list, \"popped:\", popped_item)\n",
    "\n",
    "new_list = ['a', 'c', 'p', 'd', 'yee']\n",
    "num_list = [1, 5, 4, 2, 3]\n",
    "new_list.sort() # Sorts in place\n",
    "sorted(new_list) # Returns sorted list\n",
    "print(new_list)\n",
    "print(type(num_list.sort())) # Type of something that doesn't return something due to inplace\n",
    "num_list.reverse()\n",
    "print(num_list)\n",
    "\n",
    "price_lookup = {'k1': 123, 'k2': [0,1,2], 'k3': {'insideKey':100}}\n",
    "print(price_lookup.keys())\n",
    "print(price_lookup.values())\n",
    "print(price_lookup.items())\n",
    "\n",
    "# Tuples are very similar to lists accept they use () and are immutable\n",
    "# Good for passing around in project to make sure it doesn't get changed\n",
    "t= ('one','one',3.0)\n",
    "print(t.count('one'))\n",
    "print(t.index(3.0))\n",
    "\n",
    "# Set is an unordered collection of unique elements\n",
    "s = set()\n",
    "s.add(1)\n",
    "print(s)\n",
    "s.add(2)\n",
    "s.add(2)\n",
    "print(s)\n",
    "list_r = [4,2,1,3,4,2,4,2,3,1,2,3,2,3,1]\n",
    "print(set(list_r)) # Casting to a set\n",
    "\n",
    "b = None # Placeholder useful for booleans\n",
    "print(b)"
   ]
  },
  {
   "cell_type": "code",
   "execution_count": null,
   "metadata": {},
   "outputs": [],
   "source": [
    "# Only works in a Jupyter notebook"
   ]
  },
  {
   "cell_type": "code",
   "execution_count": 135,
   "metadata": {},
   "outputs": [
    {
     "name": "stdout",
     "output_type": "stream",
     "text": [
      "Overwriting myfile.txt\n"
     ]
    }
   ],
   "source": [
    "%%writefile myfile.txt \n",
    "Hello this is a text file\n",
    "this is the second line\n",
    "this is the third line\n",
    "this is the fourth line"
   ]
  },
  {
   "cell_type": "code",
   "execution_count": 87,
   "metadata": {},
   "outputs": [
    {
     "data": {
      "text/plain": [
       "'C:\\\\Users\\\\maxim\\\\projects\\\\Complete-Python-3-Bootcamp\\\\00-Python Object and Data Structure Basics'"
      ]
     },
     "execution_count": 87,
     "metadata": {},
     "output_type": "execute_result"
    }
   ],
   "source": [
    "pwd"
   ]
  },
  {
   "cell_type": "code",
   "execution_count": 136,
   "metadata": {},
   "outputs": [],
   "source": [
    "myfile = open('myfile.txt')"
   ]
  },
  {
   "cell_type": "code",
   "execution_count": 137,
   "metadata": {},
   "outputs": [
    {
     "data": {
      "text/plain": [
       "'Hello this is a text file\\nthis is the second line\\nthis is the third line\\nthis is the fourth line\\n'"
      ]
     },
     "execution_count": 137,
     "metadata": {},
     "output_type": "execute_result"
    }
   ],
   "source": [
    "myfile.read() # If run this twice then second time will be empty because cursor got to end"
   ]
  },
  {
   "cell_type": "code",
   "execution_count": 112,
   "metadata": {},
   "outputs": [
    {
     "data": {
      "text/plain": [
       "'Hello this is a text file\\nthis is the second line\\nthis is the third line\\nthis is the fourth line\\n'"
      ]
     },
     "execution_count": 112,
     "metadata": {},
     "output_type": "execute_result"
    }
   ],
   "source": [
    "myfile.seek(0) # This is the fix \n",
    "myfile.read()"
   ]
  },
  {
   "cell_type": "code",
   "execution_count": 114,
   "metadata": {},
   "outputs": [
    {
     "data": {
      "text/plain": [
       "['Hello this is a text file\\n',\n",
       " 'this is the second line\\n',\n",
       " 'this is the third line\\n',\n",
       " 'this is the fourth line\\n']"
      ]
     },
     "execution_count": 114,
     "metadata": {},
     "output_type": "execute_result"
    }
   ],
   "source": [
    "myfile.seek(0)\n",
    "myfile.readlines()"
   ]
  },
  {
   "cell_type": "code",
   "execution_count": 117,
   "metadata": {},
   "outputs": [],
   "source": [
    "mycoolfile = open('C:\\\\Users\\\\maxim\\\\Desktop\\\\New Text Document.txt')"
   ]
  },
  {
   "cell_type": "code",
   "execution_count": 122,
   "metadata": {},
   "outputs": [
    {
     "data": {
      "text/plain": [
       "'Hello this is a text file\\nthis is the second line\\nthis is the third line\\nthis is the fourth line\\n'"
      ]
     },
     "execution_count": 122,
     "metadata": {},
     "output_type": "execute_result"
    }
   ],
   "source": [
    "with open('myfile.txt') as my_new_file:\n",
    "    contents = my_new_file.read()\n",
    "    \n",
    "contents"
   ]
  },
  {
   "cell_type": "code",
   "execution_count": 140,
   "metadata": {},
   "outputs": [
    {
     "name": "stdout",
     "output_type": "stream",
     "text": [
      "\n",
      "what up\n"
     ]
    }
   ],
   "source": [
    "# mode= 'r' read only | 'w' write only (overwrite or creat new) | 'a' append only (add to file) | \\\n",
    "#       'r+' reading and writing | 'w+' writing and reading (overwrite and create new)\n",
    "with open('myfile.txt', mode='w') as f:\n",
    "    f.write(\"\\nwhat up\")\n",
    "with open('myfile.txt', mode='r') as f:\n",
    "    f.seek(0)\n",
    "    print(f.read())"
   ]
  },
  {
   "cell_type": "code",
   "execution_count": null,
   "metadata": {},
   "outputs": [],
   "source": []
  },
  {
   "cell_type": "code",
   "execution_count": 141,
   "metadata": {},
   "outputs": [
    {
     "name": "stdout",
     "output_type": "stream",
     "text": [
      "Cool Beans\n",
      "Cool Beans\n",
      "Cool Beans\n",
      "Cool Beans\n",
      "Cool Beans\n",
      "Cool Beans\n",
      "Cool Beans\n",
      "Cool Beans\n",
      "Cool Beans\n",
      "Cool Beans\n",
      "Cool Beans\n"
     ]
    }
   ],
   "source": [
    "for _ in 'Hello World': # use the _ for when you don't care about the variable\n",
    "    print('Cool Beans')"
   ]
  },
  {
   "cell_type": "code",
   "execution_count": 152,
   "metadata": {},
   "outputs": [
    {
     "name": "stdout",
     "output_type": "stream",
     "text": [
      "1 2 3\n",
      "3 4 5\n",
      "4 5 6\n"
     ]
    }
   ],
   "source": [
    "# tuple unpacking\n",
    "mylist = [(1,2,3), (3, 4,5), (4, 5, 6)]\n",
    "for a, b, c in mylist:\n",
    "    print(a, b, c)"
   ]
  },
  {
   "cell_type": "code",
   "execution_count": 157,
   "metadata": {},
   "outputs": [
    {
     "name": "stdout",
     "output_type": "stream",
     "text": [
      "('d', 1)\n",
      "('b', 2)\n",
      "('c', 3)\n"
     ]
    }
   ],
   "source": [
    "d = {'d':1, 'b':2, 'c':3}\n",
    "for value in d.items(): # if just use d, will iterate through the keys\n",
    "    print(value)"
   ]
  },
  {
   "cell_type": "code",
   "execution_count": 162,
   "metadata": {},
   "outputs": [
    {
     "name": "stdout",
     "output_type": "stream",
     "text": [
      "The current value of x is 0\n",
      "The current value of x is 1\n",
      "The current value of x is 2\n",
      "The current value of x is 3\n",
      "The current value of x is 4\n",
      "x is not less than 5\n"
     ]
    }
   ],
   "source": [
    "x = 0\n",
    "while x < 5:\n",
    "    print(f'The current value of x is {x}')\n",
    "    x += 1\n",
    "else:\n",
    "    print('x is not less than 5')"
   ]
  },
  {
   "cell_type": "code",
   "execution_count": 164,
   "metadata": {},
   "outputs": [],
   "source": [
    "x = [1,2,3]\n",
    "for item in x:\n",
    "    pass # because can not have an empty for loop"
   ]
  },
  {
   "cell_type": "code",
   "execution_count": 165,
   "metadata": {},
   "outputs": [],
   "source": [
    "# if in an infinite loop can interupt using Kernal > Interupt"
   ]
  },
  {
   "cell_type": "code",
   "execution_count": 169,
   "metadata": {},
   "outputs": [
    {
     "name": "stdout",
     "output_type": "stream",
     "text": [
      "3\n",
      "5\n",
      "7\n",
      "9\n"
     ]
    }
   ],
   "source": [
    "for num in range(3,10,2): # range(start, stop, step)\n",
    "    print(num)"
   ]
  },
  {
   "cell_type": "code",
   "execution_count": 174,
   "metadata": {},
   "outputs": [
    {
     "data": {
      "text/plain": [
       "[3, 5, 7, 9]"
      ]
     },
     "execution_count": 174,
     "metadata": {},
     "output_type": "execute_result"
    }
   ],
   "source": [
    "list(range(3,10,2)) # range() is a generator"
   ]
  },
  {
   "cell_type": "code",
   "execution_count": 176,
   "metadata": {},
   "outputs": [
    {
     "name": "stdout",
     "output_type": "stream",
     "text": [
      "0 d\n",
      "1 o\n",
      "2 g\n",
      "3 s\n"
     ]
    }
   ],
   "source": [
    "for i, letter in enumerate('dogs'): # can take in any iterator\n",
    "    print(i, letter)"
   ]
  },
  {
   "cell_type": "code",
   "execution_count": 182,
   "metadata": {},
   "outputs": [
    {
     "data": {
      "text/plain": [
       "[(1, 'a', 100.0), (2, 'b', 200.0), (3, 'c', 300.0)]"
      ]
     },
     "execution_count": 182,
     "metadata": {},
     "output_type": "execute_result"
    }
   ],
   "source": [
    "mylist1 = [1, 2, 3, 4, 5, 6] # zip will go till it can't\n",
    "mylist2 = ['a', 'b', 'c']\n",
    "mylist3 = [100.0, 200.0, 300.0]\n",
    "list(zip(mylist1, mylist2, mylist3))"
   ]
  },
  {
   "cell_type": "code",
   "execution_count": 187,
   "metadata": {},
   "outputs": [
    {
     "name": "stdout",
     "output_type": "stream",
     "text": [
      "1 6\n"
     ]
    }
   ],
   "source": [
    "'x' in [1,2,3]\n",
    "'w' in 'Hello world'\n",
    "345 in {'k':345}.values()\n",
    "print(min(mylist1), max(mylist1))"
   ]
  },
  {
   "cell_type": "code",
   "execution_count": 533,
   "metadata": {},
   "outputs": [
    {
     "name": "stdout",
     "output_type": "stream",
     "text": [
      "[9, 3, 1, 5, 2, 4, 8, 7, 6]\n",
      "59\n"
     ]
    }
   ],
   "source": [
    "from random import shuffle, randint\n",
    "mylistshuffle = [1,2,3,4,5,6,7,8,9]\n",
    "shuffle(mylistshuffle)\n",
    "print(mylistshuffle)\n",
    "print(randint(0,100))"
   ]
  },
  {
   "cell_type": "code",
   "execution_count": 536,
   "metadata": {},
   "outputs": [
    {
     "name": "stdout",
     "output_type": "stream",
     "text": [
      "Enter a number here: 56\n"
     ]
    }
   ],
   "source": [
    "result = input('Enter a number here: ')"
   ]
  },
  {
   "cell_type": "code",
   "execution_count": 539,
   "metadata": {},
   "outputs": [
    {
     "data": {
      "text/plain": [
       "str"
      ]
     },
     "execution_count": 539,
     "metadata": {},
     "output_type": "execute_result"
    }
   ],
   "source": [
    "type(result)"
   ]
  },
  {
   "cell_type": "code",
   "execution_count": 542,
   "metadata": {},
   "outputs": [
    {
     "name": "stdout",
     "output_type": "stream",
     "text": [
      "['h', 'e', 'l', 'l', 'o']\n"
     ]
    }
   ],
   "source": [
    "ml = []\n",
    "for letter in 'hello':\n",
    "    ml.append(letter)\n",
    "print(ml)"
   ]
  },
  {
   "cell_type": "code",
   "execution_count": 550,
   "metadata": {},
   "outputs": [
    {
     "name": "stdout",
     "output_type": "stream",
     "text": [
      "[0, 6, 12, 18, 24, 30]\n"
     ]
    }
   ],
   "source": [
    "ml = [num*3 for num in range(0,11) if num%2==0]\n",
    "print(ml)"
   ]
  },
  {
   "cell_type": "code",
   "execution_count": 553,
   "metadata": {},
   "outputs": [
    {
     "name": "stdout",
     "output_type": "stream",
     "text": [
      "[0, 'ODD', 2, 'ODD', 4, 'ODD', 6, 'ODD', 8, 'ODD', 10]\n"
     ]
    }
   ],
   "source": [
    "results = [x if x%2==0 else 'ODD' for x in range(0,11)]\n",
    "print(results)"
   ]
  },
  {
   "cell_type": "code",
   "execution_count": 554,
   "metadata": {},
   "outputs": [
    {
     "name": "stdout",
     "output_type": "stream",
     "text": [
      "[2, 20, 2000, 4, 40, 4000, 6, 60, 6000]\n"
     ]
    }
   ],
   "source": [
    "r1 = [x*y for x in [2,4,6] for y in [1,10,1000]]\n",
    "print(r1)"
   ]
  }
 ],
 "metadata": {
  "kernelspec": {
   "display_name": "Python 3",
   "language": "python",
   "name": "python3"
  },
  "language_info": {
   "codemirror_mode": {
    "name": "ipython",
    "version": 3
   },
   "file_extension": ".py",
   "mimetype": "text/x-python",
   "name": "python",
   "nbconvert_exporter": "python",
   "pygments_lexer": "ipython3",
   "version": "3.7.4"
  }
 },
 "nbformat": 4,
 "nbformat_minor": 2
}
