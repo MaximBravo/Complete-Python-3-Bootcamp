{
 "cells": [
  {
   "cell_type": "markdown",
   "metadata": {
    "collapsed": true
   },
   "source": [
    "# Statements Assessment Test\n",
    "Let's test your knowledge!"
   ]
  },
  {
   "cell_type": "markdown",
   "metadata": {},
   "source": [
    "_____\n",
    "**Use <code>for</code>, .split(), and <code>if</code> to create a Statement that will print out words that start with 's':**"
   ]
  },
  {
   "cell_type": "code",
   "execution_count": 2,
   "metadata": {},
   "outputs": [],
   "source": [
    "st = 'Print only the words that start with s in this sentence'"
   ]
  },
  {
   "cell_type": "code",
   "execution_count": 3,
   "metadata": {},
   "outputs": [
    {
     "name": "stdout",
     "output_type": "stream",
     "text": [
      "['start', 's', 'sentence']\n"
     ]
    }
   ],
   "source": [
    "#Code here\n",
    "print([word for word in st.split() if word[0] == 's'])"
   ]
  },
  {
   "cell_type": "markdown",
   "metadata": {},
   "source": [
    "______\n",
    "**Use range() to print all the even numbers from 0 to 10.**"
   ]
  },
  {
   "cell_type": "code",
   "execution_count": 4,
   "metadata": {},
   "outputs": [
    {
     "name": "stdout",
     "output_type": "stream",
     "text": [
      "[0, 2, 4, 6, 8]\n"
     ]
    }
   ],
   "source": [
    "print([num for num in range(0, 10) if num%2 == 0])"
   ]
  },
  {
   "cell_type": "markdown",
   "metadata": {},
   "source": [
    "___\n",
    "**Use a List Comprehension to create a list of all numbers between 1 and 50 that are divisible by 3.**"
   ]
  },
  {
   "cell_type": "code",
   "execution_count": 5,
   "metadata": {},
   "outputs": [
    {
     "name": "stdout",
     "output_type": "stream",
     "text": [
      "[3, 6, 9, 12, 15, 18, 21, 24, 27, 30, 33, 36, 39, 42, 45, 48]\n"
     ]
    }
   ],
   "source": [
    "print([num for num in range(1, 50) if num%3 == 0])"
   ]
  },
  {
   "cell_type": "markdown",
   "metadata": {},
   "source": [
    "_____\n",
    "**Go through the string below and if the length of a word is even print \"even!\"**"
   ]
  },
  {
   "cell_type": "code",
   "execution_count": null,
   "metadata": {},
   "outputs": [],
   "source": [
    "st = 'Print every word in this sentence that has an even number of letters'"
   ]
  },
  {
   "cell_type": "code",
   "execution_count": 6,
   "metadata": {},
   "outputs": [
    {
     "name": "stdout",
     "output_type": "stream",
     "text": [
      "['even!', 'even!', 'even!', 'even!', 'even!', 'even!']\n"
     ]
    }
   ],
   "source": [
    "print(['even!' for word in st.split() if len(word)%2 == 0])"
   ]
  },
  {
   "cell_type": "markdown",
   "metadata": {},
   "source": [
    "____\n",
    "**Write a program that prints the integers from 1 to 100. But for multiples of three print \"Fizz\" instead of the number, and for the multiples of five print \"Buzz\". For numbers which are multiples of both three and five print \"FizzBuzz\".**"
   ]
  },
  {
   "cell_type": "code",
   "execution_count": 34,
   "metadata": {},
   "outputs": [
    {
     "name": "stdout",
     "output_type": "stream",
     "text": [
      "[1, 1]\n",
      "[2, 2]\n",
      "[0, 3]\n",
      "[1, 4]\n",
      "[2, 0]\n",
      "[0, 1]\n",
      "[1, 2]\n",
      "[2, 3]\n",
      "[0, 4]\n",
      "[1, 0]\n",
      "[2, 1]\n",
      "[0, 2]\n",
      "[1, 3]\n",
      "[2, 4]\n",
      "[0, 0]\n",
      "[1, 1]\n",
      "[2, 2]\n",
      "[0, 3]\n",
      "[1, 4]\n",
      "[2, 0]\n",
      "[0, 1]\n",
      "[1, 2]\n",
      "[2, 3]\n",
      "[0, 4]\n",
      "[1, 0]\n",
      "[2, 1]\n",
      "[0, 2]\n",
      "[1, 3]\n",
      "[2, 4]\n",
      "[0, 0]\n",
      "[1, 1]\n",
      "[2, 2]\n",
      "[0, 3]\n",
      "[1, 4]\n",
      "[2, 0]\n",
      "[0, 1]\n",
      "[1, 2]\n",
      "[2, 3]\n",
      "[0, 4]\n",
      "[1, 0]\n",
      "[2, 1]\n",
      "[0, 2]\n",
      "[1, 3]\n",
      "[2, 4]\n",
      "[0, 0]\n",
      "[1, 1]\n",
      "[2, 2]\n",
      "[0, 3]\n",
      "[1, 4]\n",
      "[2, 0]\n",
      "[0, 1]\n",
      "[1, 2]\n",
      "[2, 3]\n",
      "[0, 4]\n",
      "[1, 0]\n",
      "[2, 1]\n",
      "[0, 2]\n",
      "[1, 3]\n",
      "[2, 4]\n",
      "[0, 0]\n",
      "[1, 1]\n",
      "[2, 2]\n",
      "[0, 3]\n",
      "[1, 4]\n",
      "[2, 0]\n",
      "[0, 1]\n",
      "[1, 2]\n",
      "[2, 3]\n",
      "[0, 4]\n",
      "[1, 0]\n",
      "[2, 1]\n",
      "[0, 2]\n",
      "[1, 3]\n",
      "[2, 4]\n",
      "[0, 0]\n",
      "[1, 1]\n",
      "[2, 2]\n",
      "[0, 3]\n",
      "[1, 4]\n",
      "[2, 0]\n",
      "[0, 1]\n",
      "[1, 2]\n",
      "[2, 3]\n",
      "[0, 4]\n",
      "[1, 0]\n",
      "[2, 1]\n",
      "[0, 2]\n",
      "[1, 3]\n",
      "[2, 4]\n",
      "[0, 0]\n",
      "[1, 1]\n",
      "[2, 2]\n",
      "[0, 3]\n",
      "[1, 4]\n",
      "[2, 0]\n",
      "[0, 1]\n",
      "[1, 2]\n",
      "[2, 3]\n",
      "[0, 4]\n",
      "[1, 0]\n"
     ]
    }
   ],
   "source": []
  },
  {
   "cell_type": "code",
   "execution_count": 35,
   "metadata": {},
   "outputs": [],
   "source": [
    "answer = []\n",
    "for i in range(1,101):\n",
    "    base = ''\n",
    "    if i%3 == 0:\n",
    "        base += 'Fizz'\n",
    "    if i%5 == 0:\n",
    "        base += 'Buzz'\n",
    "    answer.append(sorted([str(i), base])[-1])"
   ]
  },
  {
   "cell_type": "code",
   "execution_count": 82,
   "metadata": {},
   "outputs": [
    {
     "name": "stdout",
     "output_type": "stream",
     "text": [
      "1 1\n",
      "2 2\n",
      "Fizz Fizz\n",
      "4 4\n",
      "Buzz Buzz\n",
      "Fizz Fizz\n",
      "7 7\n",
      "8 8\n",
      "Fizz Fizz\n",
      "Buzz Buzz\n",
      "11 11\n",
      "Fizz Fizz\n",
      "13 13\n",
      "14 14\n",
      "FizzBuzz FizzBuzz\n",
      "16 16\n",
      "17 17\n",
      "Fizz Fizz\n",
      "19 19\n",
      "Buzz Buzz\n",
      "Fizz Fizz\n",
      "22 22\n",
      "23 23\n",
      "Fizz Fizz\n",
      "Buzz Buzz\n",
      "26 26\n",
      "Fizz Fizz\n",
      "28 28\n",
      "29 29\n",
      "FizzBuzz FizzBuzz\n",
      "31 31\n",
      "32 32\n",
      "Fizz Fizz\n",
      "34 34\n",
      "Buzz Buzz\n",
      "Fizz Fizz\n",
      "37 37\n",
      "38 38\n",
      "Fizz Fizz\n",
      "Buzz Buzz\n",
      "41 41\n",
      "Fizz Fizz\n",
      "43 43\n",
      "44 44\n",
      "FizzBuzz FizzBuzz\n",
      "46 46\n",
      "47 47\n",
      "Fizz Fizz\n",
      "49 49\n",
      "Buzz Buzz\n",
      "Fizz Fizz\n",
      "52 52\n",
      "53 53\n",
      "Fizz Fizz\n",
      "Buzz Buzz\n",
      "56 56\n",
      "Fizz Fizz\n",
      "58 58\n",
      "59 59\n",
      "FizzBuzz FizzBuzz\n",
      "61 61\n",
      "62 62\n",
      "Fizz Fizz\n",
      "64 64\n",
      "Buzz Buzz\n",
      "Fizz Fizz\n",
      "67 67\n",
      "68 68\n",
      "Fizz Fizz\n",
      "Buzz Buzz\n",
      "71 71\n",
      "Fizz Fizz\n",
      "73 73\n",
      "74 74\n",
      "FizzBuzz FizzBuzz\n",
      "76 76\n",
      "77 77\n",
      "Fizz Fizz\n",
      "79 79\n",
      "Buzz Buzz\n",
      "Fizz Fizz\n",
      "82 82\n",
      "83 83\n",
      "Fizz Fizz\n",
      "Buzz Buzz\n",
      "86 86\n",
      "Fizz Fizz\n",
      "88 88\n",
      "89 89\n",
      "FizzBuzz FizzBuzz\n",
      "91 91\n",
      "92 92\n",
      "Fizz Fizz\n",
      "94 94\n",
      "Buzz Buzz\n",
      "Fizz Fizz\n",
      "97 97\n",
      "98 98\n",
      "Fizz Fizz\n",
      "Buzz Buzz\n"
     ]
    }
   ],
   "source": [
    "end = ['']*99\n",
    "fizz = ['Fizz'] + end\n",
    "buzz = ['Buzz'] + end\n",
    "for i in range(1, 101):\n",
    "    f = fizz[i%3]\n",
    "    b = buzz[i%5] \n",
    "    a = str(i)\n",
    "    print(sorted(set([f, b, a, f+b]))[-1], answer[i-1])"
   ]
  },
  {
   "cell_type": "code",
   "execution_count": 27,
   "metadata": {},
   "outputs": [
    {
     "name": "stdout",
     "output_type": "stream",
     "text": [
      "['', '1']\n",
      "['', '2']\n",
      "['', '3', 'Fizz']\n",
      "['', '4']\n",
      "['', '4Buzz', '5']\n",
      "['', '6', 'Fizz']\n",
      "['', '7']\n",
      "['', '8']\n",
      "['', '9', 'Fizz']\n",
      "['', '10', '9Buzz']\n",
      "['', '11']\n",
      "['', '12', 'Fizz']\n",
      "['', '13']\n",
      "['', '14']\n",
      "['', '14Buzz', '15', 'Fizz']\n",
      "['', '16']\n",
      "['', '17']\n",
      "['', '18', 'Fizz']\n",
      "['', '19']\n",
      "['', '19Buzz', '20']\n",
      "['', '21', 'Fizz']\n",
      "['', '22']\n",
      "['', '23']\n",
      "['', '24', 'Fizz']\n",
      "['', '24Buzz', '25']\n",
      "['', '26']\n",
      "['', '27', 'Fizz']\n",
      "['', '28']\n",
      "['', '29']\n",
      "['', '29Buzz', '30', 'Fizz']\n",
      "['', '31']\n",
      "['', '32']\n",
      "['', '33', 'Fizz']\n",
      "['', '34']\n",
      "['', '34Buzz', '35']\n",
      "['', '36', 'Fizz']\n",
      "['', '37']\n",
      "['', '38']\n",
      "['', '39', 'Fizz']\n",
      "['', '39Buzz', '40']\n",
      "['', '41']\n",
      "['', '42', 'Fizz']\n",
      "['', '43']\n",
      "['', '44']\n",
      "['', '44Buzz', '45', 'Fizz']\n",
      "['', '46']\n",
      "['', '47']\n",
      "['', '48', 'Fizz']\n",
      "['', '49']\n",
      "['', '49Buzz', '50']\n",
      "['', '51', 'Fizz']\n",
      "['', '52']\n",
      "['', '53']\n",
      "['', '54', 'Fizz']\n",
      "['', '54Buzz', '55']\n",
      "['', '56']\n",
      "['', '57', 'Fizz']\n",
      "['', '58']\n",
      "['', '59']\n",
      "['', '59Buzz', '60', 'Fizz']\n",
      "['', '61']\n",
      "['', '62']\n",
      "['', '63', 'Fizz']\n",
      "['', '64']\n",
      "['', '64Buzz', '65']\n",
      "['', '66', 'Fizz']\n",
      "['', '67']\n",
      "['', '68']\n",
      "['', '69', 'Fizz']\n",
      "['', '69Buzz', '70']\n",
      "['', '71']\n",
      "['', '72', 'Fizz']\n",
      "['', '73']\n",
      "['', '74']\n",
      "['', '74Buzz', '75', 'Fizz']\n",
      "['', '76']\n",
      "['', '77']\n",
      "['', '78', 'Fizz']\n",
      "['', '79']\n",
      "['', '79Buzz', '80']\n",
      "['', '81', 'Fizz']\n",
      "['', '82']\n",
      "['', '83']\n",
      "['', '84', 'Fizz']\n",
      "['', '84Buzz', '85']\n",
      "['', '86']\n",
      "['', '87', 'Fizz']\n",
      "['', '88']\n",
      "['', '89']\n",
      "['', '89Buzz', '90', 'Fizz']\n",
      "['', '91']\n",
      "['', '92']\n",
      "['', '93', 'Fizz']\n",
      "['', '94']\n",
      "['', '94Buzz', '95']\n",
      "['', '96', 'Fizz']\n",
      "['', '97']\n",
      "['', '98']\n",
      "['', '99', 'Fizz']\n",
      "['', '100', '99Buzz']\n"
     ]
    }
   ],
   "source": [
    "for i in range(1,101):\n",
    "    list1 = ['']\n",
    "    if i%3 == 0:\n",
    "        list1.append('Fizz')\n",
    "    if i%5 == 0:\n",
    "        list1.append(str(i-1) + 'Buzz')\n",
    "    list1.append(str(i))\n",
    "    print(sorted(list1))"
   ]
  },
  {
   "cell_type": "markdown",
   "metadata": {},
   "source": [
    "____\n",
    "**Use List Comprehension to create a list of the first letters of every word in the string below:**"
   ]
  },
  {
   "cell_type": "code",
   "execution_count": 12,
   "metadata": {},
   "outputs": [],
   "source": [
    "st = 'Create a list of the first letters of every word in this string'"
   ]
  },
  {
   "cell_type": "code",
   "execution_count": 13,
   "metadata": {},
   "outputs": [
    {
     "name": "stdout",
     "output_type": "stream",
     "text": [
      "['C', 'a', 'l', 'o', 't', 'f', 'l', 'o', 'e', 'w', 'i', 't', 's']\n"
     ]
    }
   ],
   "source": [
    "print([letter[0] for letter in st.split()])"
   ]
  },
  {
   "cell_type": "markdown",
   "metadata": {},
   "source": [
    "### Great Job!"
   ]
  }
 ],
 "metadata": {
  "kernelspec": {
   "display_name": "Python 3",
   "language": "python",
   "name": "python3"
  },
  "language_info": {
   "codemirror_mode": {
    "name": "ipython",
    "version": 3
   },
   "file_extension": ".py",
   "mimetype": "text/x-python",
   "name": "python",
   "nbconvert_exporter": "python",
   "pygments_lexer": "ipython3",
   "version": "3.7.4"
  }
 },
 "nbformat": 4,
 "nbformat_minor": 1
}
