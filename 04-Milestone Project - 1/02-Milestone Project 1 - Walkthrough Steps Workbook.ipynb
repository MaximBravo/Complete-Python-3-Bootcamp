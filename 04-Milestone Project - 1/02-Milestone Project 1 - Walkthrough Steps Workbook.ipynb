{
 "cells": [
  {
   "cell_type": "markdown",
   "metadata": {},
   "source": [
    "# Milestone Project 1: Walkthrough Steps Workbook\n",
    "\n",
    "Below is a set of steps for you to follow to try to create the Tic Tac Toe Milestone Project game!"
   ]
  },
  {
   "cell_type": "markdown",
   "metadata": {},
   "source": [
    "#### Some suggested tools before you get started:\n",
    "To take input from a user:\n",
    "\n",
    "    player1 = input(\"Please pick a marker 'X' or 'O'\")\n",
    "    \n",
    "Note that input() takes in a string. If you need an integer value, use\n",
    "\n",
    "    position = int(input('Please enter a number'))\n",
    "    \n",
    "<br>To clear the screen between moves:\n",
    "\n",
    "    from IPython.display import clear_output\n",
    "    clear_output()\n",
    "    \n",
    "Note that clear_output() will only work in jupyter. To clear the screen in other IDEs, consider:\n",
    "\n",
    "    print('\\n'*100)\n",
    "    \n",
    "This scrolls the previous board up out of view. Now on to the program!"
   ]
  },
  {
   "cell_type": "code",
   "execution_count": 1,
   "metadata": {},
   "outputs": [],
   "source": [
    "from IPython.display import clear_output\n",
    "\n",
    "def display_board(board):\n",
    "    clear_output()\n",
    "    print('|———|———|———|')\n",
    "    print('| ' + board[7] + ' | ' + board[8] + ' | ' + board[9] + ' |')\n",
    "    print('|———|———|———|')\n",
    "    print('| ' + board[4] + ' | ' + board[5] + ' | ' + board[6] + ' |')\n",
    "    print('|———|———|———|')\n",
    "    print('| ' + board[1] + ' | ' + board[2] + ' | ' + board[3] + ' |')\n",
    "    print('|———|———|———|')\n"
   ]
  },
  {
   "cell_type": "code",
   "execution_count": 3,
   "metadata": {},
   "outputs": [],
   "source": [
    "def get_move(turn, board, markers):\n",
    "    side = markers[turn % len(markers)]\n",
    "    filled = [i for i, val in enumerate(board) if val in markers]\n",
    "    pos = ''\n",
    "#     print('initial: ', side, filled, pos)\n",
    "    while not pos.isdigit() or (pos.isdigit() and int(pos) in filled):\n",
    "        if pos == 'exit':\n",
    "            break\n",
    "        pos = input(f'Play {side} by using numpad: ')\n",
    "#         print('inside: ', side, filled, pos, pos.isdigit())\n",
    "    if pos == 'exit':\n",
    "        return -1\n",
    "    board[int(pos)] = side\n",
    "    turn += 1\n",
    "    return (turn, board, side)\n",
    "    "
   ]
  },
  {
   "cell_type": "code",
   "execution_count": 4,
   "metadata": {},
   "outputs": [],
   "source": [
    "def win_check(board, mark):\n",
    "    row_1 = board[1:4]\n",
    "    row_2 = board[4:7]\n",
    "    row_3 = board[7:10]\n",
    "    # Check row win\n",
    "    if row_1.count(mark) == 3 or row_2.count(mark) == 3 or row_3.count(mark) == 3:\n",
    "        return True\n",
    "    # Check col win\n",
    "    for i in range(3):\n",
    "        if row_1[i] == row_2[i] == row_3[i] == mark:\n",
    "            return True\n",
    "    # Check diag win\n",
    "    if row_1[0] == row_2[1] == row_3[2] == mark or row_1[2] == row_2[1] == row_3[0] == mark:\n",
    "        return True\n",
    "    return False"
   ]
  },
  {
   "cell_type": "code",
   "execution_count": null,
   "metadata": {},
   "outputs": [
    {
     "name": "stdout",
     "output_type": "stream",
     "text": [
      "|———|———|———|\n",
      "| 7 | 8 | 9 |\n",
      "|———|———|———|\n",
      "| 4 | 5 | 6 |\n",
      "|———|———|———|\n",
      "| 1 | 2 | 3 |\n",
      "|———|———|———|\n",
      "Play X by using numpad: exit\n"
     ]
    }
   ],
   "source": [
    "from random import shuffle\n",
    "\n",
    "position_board = [str(i) for i in list(range(10))]\n",
    "\n",
    "def ask_another():\n",
    "    answer = None\n",
    "    while answer is None:\n",
    "        response = input('Would you like to play another?')\n",
    "        if response.lower() in ['yes', 'sure', 'ya', 'yee', 'ok', 'yep']:\n",
    "            answer = True\n",
    "        if response.lower() in ['no', 'nah', 'nope', 'na']:\n",
    "            answer = False\n",
    "    return answer\n",
    "def run_game():\n",
    "    markers = ['X', 'O']\n",
    "    shuffle(markers)\n",
    "    board = ['#',' ',' ',' ',' ',' ',' ',' ',' ',' ']\n",
    "    turn = 0\n",
    "    display_board(position_board)\n",
    "    while ' ' in board:\n",
    "        data = get_move(turn, board, markers)\n",
    "        if data == -1:\n",
    "            break\n",
    "        turn, board, side = data\n",
    "\n",
    "        display_board(board)\n",
    "        if win_check(board, side):\n",
    "            print(f'{side} wins in {turn} moves!')\n",
    "            break\n",
    "    another = ask_another()\n",
    "    if another:\n",
    "        run_game()\n",
    "\n",
    "run_game()\n",
    "    "
   ]
  }
 ],
 "metadata": {
  "kernelspec": {
   "display_name": "Python 3",
   "language": "python",
   "name": "python3"
  },
  "language_info": {
   "codemirror_mode": {
    "name": "ipython",
    "version": 3
   },
   "file_extension": ".py",
   "mimetype": "text/x-python",
   "name": "python",
   "nbconvert_exporter": "python",
   "pygments_lexer": "ipython3",
   "version": "3.7.4"
  }
 },
 "nbformat": 4,
 "nbformat_minor": 1
}
